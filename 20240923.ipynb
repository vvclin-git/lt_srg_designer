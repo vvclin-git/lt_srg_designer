{
 "cells": [
  {
   "cell_type": "code",
   "execution_count": 1,
   "metadata": {},
   "outputs": [
    {
     "data": {
      "text/plain": [
       "0"
      ]
     },
     "execution_count": 1,
     "metadata": {},
     "output_type": "execute_result"
    }
   ],
   "source": [
    "import numpy as np\n",
    "from LightTools import LTAPIx\n",
    "import time\n",
    "import matplotlib.pyplot as plt\n",
    "PID = 6776\n",
    "loc = LTAPIx.LTLocator()\n",
    "lt = loc.GetLTAPIFromPID(PID)\n",
    "lt.Message('Script LT connection established')"
   ]
  },
  {
   "cell_type": "code",
   "execution_count": 8,
   "metadata": {},
   "outputs": [
    {
     "data": {
      "text/plain": [
       "0"
      ]
     },
     "execution_count": 8,
     "metadata": {},
     "output_type": "execute_result"
    }
   ],
   "source": [
    "timestr = time.strftime(\"%Y%m%d-%H-%M-%S\")\n",
    "lt.Message(timestr)\n",
    "lt.Cmd(\"\\O\" + lt.Str('PROPERTY_MANAGER[Optical Properties Manager]'))\n",
    "lt.Cmd(\"AddNew=\"\"\")\n",
    "lt.Cmd(\"\\Q\")\n",
    "lt.DbGet('PROPERTY_MANAGER[Optical Properties Manager].PROPERTY[@Last]', 'Name')\n",
    "lt.DbSet('PROPERTY_MANAGER[Optical Properties Manager].PROPERTY[@Last]','Name',f'_{timestr}')"
   ]
  },
  {
   "cell_type": "code",
   "execution_count": 14,
   "metadata": {},
   "outputs": [],
   "source": [
    "def set_zone_property(lt, name, paras):\n",
    "    lt.Cmd(\"\\O\" + lt.Str('PROPERTY_MANAGER[Optical Properties Manager]'))\n",
    "    lt.Cmd(\"AddNew=\"\"\")\n",
    "    lt.Cmd(\"\\Q\")\n",
    "    lt.DbSet('PROPERTY_MANAGER[Optical Properties Manager].PROPERTY[@Last]','Name', f'{name}')    \n",
    "    for k in paras.keys():\n",
    "        lt.DbSet('PROPERTY_MANAGER[Optical Properties Manager].PROPERTY[@Last]', k, paras[k])"
   ]
  },
  {
   "cell_type": "code",
   "execution_count": 11,
   "metadata": {},
   "outputs": [],
   "source": [
    "name_list = ['test_1', 'test_2']\n",
    "type_list = ['Holographic Grating', 'Linear Grating']\n",
    "input = dict(zip(name_list, type_list))"
   ]
  },
  {
   "cell_type": "code",
   "execution_count": 13,
   "metadata": {},
   "outputs": [],
   "source": [
    "for k in input:\n",
    "    set_zone_property(lt, k, input[k], None)"
   ]
  },
  {
   "cell_type": "code",
   "execution_count": 25,
   "metadata": {},
   "outputs": [],
   "source": [
    "def set_zone(lt, surface_key, name, shape, paras):\n",
    "    lt.Cmd(\"\\O\" + lt.Str(surface_key))\n",
    "    lt.Cmd(lt.Str(\"Add Property Zone\"))\n",
    "    lt.Cmd(\"\\Q\")\n",
    "    lt.DbSet(f'{surface_key}.ZONE[@Last]','Name', f'{name}')\n",
    "    lt.DbSet(f'{surface_key}.ZONE[{name}].RECT_ZONE_EXTENT[RectangularZone]', 'Element Shape', shape) \n",
    "    shape_keys = {'Circle':'CIRC_ZONE_EXTENT[CircularZone]', 'Rectangle':'RECT_ZONE_EXTENT[RectangularZone]', 'Polygonal':'POLYGON_ZONE_EXTENT[PolygonalZone]'}\n",
    "    for k in paras.keys():\n",
    "        lt.DbSet(f'{surface_key}.ZONE[{name}].{shape_keys[shape]}', k, paras[k])"
   ]
  },
  {
   "cell_type": "code",
   "execution_count": 16,
   "metadata": {},
   "outputs": [],
   "source": [
    "surface_key = 'LENS_MANAGER[1].COMPONENTS[Components].SOLID[Cylinder_1].CYLINDER_PRIMITIVE[CylinderPrimitive_1].PLANAR_SURFACE[FrontSurface]'"
   ]
  },
  {
   "cell_type": "code",
   "execution_count": 28,
   "metadata": {},
   "outputs": [],
   "source": [
    "timestr = time.strftime(\"%Y%m%d-%H-%M-%S\")\n",
    "set_zone(lt, surface_key, timestr, None)"
   ]
  },
  {
   "cell_type": "code",
   "execution_count": 29,
   "metadata": {},
   "outputs": [
    {
     "data": {
      "text/plain": [
       "('Circle', 0)"
      ]
     },
     "execution_count": 29,
     "metadata": {},
     "output_type": "execute_result"
    }
   ],
   "source": [
    "lt.DbGet('COMPONENTS[Components].SOLID[Cylinder_1].CYLINDER_PRIMITIVE[CylinderPrimitive_1].PLANAR_SURFACE[FrontSurface].ZONE[20240923-17-17-02].CIRC_ZONE_EXTENT[CircularZone]', 'Element Shape')"
   ]
  }
 ],
 "metadata": {
  "kernelspec": {
   "display_name": "Python 3",
   "language": "python",
   "name": "python3"
  },
  "language_info": {
   "codemirror_mode": {
    "name": "ipython",
    "version": 3
   },
   "file_extension": ".py",
   "mimetype": "text/x-python",
   "name": "python",
   "nbconvert_exporter": "python",
   "pygments_lexer": "ipython3",
   "version": "3.8.4"
  }
 },
 "nbformat": 4,
 "nbformat_minor": 2
}
