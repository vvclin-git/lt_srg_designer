{
 "cells": [
  {
   "cell_type": "code",
   "execution_count": 1,
   "metadata": {},
   "outputs": [
    {
     "data": {
      "text/plain": [
       "0"
      ]
     },
     "execution_count": 1,
     "metadata": {},
     "output_type": "execute_result"
    }
   ],
   "source": [
    "import numpy as np\n",
    "from LightTools import LTAPIx\n",
    "import time\n",
    "import matplotlib.pyplot as plt\n",
    "import re\n",
    "PID = 14324\n",
    "loc = LTAPIx.LTLocator()\n",
    "lt = loc.GetLTAPIFromPID(PID)\n",
    "lt.Message('Script LT connection established')"
   ]
  },
  {
   "cell_type": "code",
   "execution_count": 28,
   "metadata": {},
   "outputs": [],
   "source": [
    "class Zone:\n",
    "    def __init__(self, name, shape_type, shape_paras, opt_type, opt_paras) -> None:\n",
    "        self.name = name\n",
    "        self.shape_type = shape_type        \n",
    "        self.shape_paras = shape_paras\n",
    "        self.opt_type = opt_type\n",
    "        self.opt_paras = opt_paras\n",
    "        if shape_type == 'Polygonal':\n",
    "            self.shape_paras_LT = {**{'X_Offset':0, 'Y_Offset':0, 'Theta_Rotation':0}, **self.array_to_dict(shape_paras, 'Vertex_X_At', 'Vertex_Y_At')}\n",
    "        elif shape_type == 'Circle':\n",
    "            self.shape_paras_LT = {'X_Offset':shape_paras[0], 'Y_Offset':shape_paras[1], 'Theta_Rotation':0, 'Radius':shape_paras[2]}\n",
    "        else:\n",
    "            raise NameError('Only Polygonal and Circle are allowed')\n",
    "        return\n",
    "    \n",
    "    def check_tabulated(self, s):\n",
    "        # Use regex to find a number inside square brackets\n",
    "        match = re.search(r'([^\\[]+)\\[(\\d+)\\]', s)\n",
    "        if match:\n",
    "            text_before_bracket = match.group(1)  # Extract the text before the bracket\n",
    "            number_in_bracket = int(match.group(2))  # Extract the number inside the bracket as an integer\n",
    "            return text_before_bracket, number_in_bracket\n",
    "        return s, None  # Return None if the pattern isn't found\n",
    "\n",
    "    def array_to_dict(self, input_array, *labels):\n",
    "        output_dict = {}\n",
    "        label_list = list(labels)\n",
    "        num_columns = input_array.shape[1]\n",
    "        if len(label_list) != num_columns:\n",
    "            raise ValueError(f\"Number of labels ({len(label_list)}) must match the number of columns ({num_columns}) in the input array.\")\n",
    "        for i, row in enumerate(input_array, start=1):\n",
    "            for j in range(num_columns):\n",
    "                output_dict[f\"{label_list[j]}[{i}]\"] = row[j]\n",
    "        return output_dict\n",
    "\n",
    "    def set_zone(self, lt, surface_key, name, shape, paras):\n",
    "        lt.Cmd(\"\\O\" + lt.Str(surface_key))\n",
    "        lt.Cmd(lt.Str(\"Add Property Zone\"))\n",
    "        lt.Cmd(\"\\Q\")\n",
    "        lt.DbSet(f'{surface_key}.ZONE[@Last]','Name', f'{name}')\n",
    "        lt.DbSet(f'{surface_key}.ZONE[{name}].RECT_ZONE_EXTENT[RectangularZone]', 'Element Shape', shape) \n",
    "        shape_keys = {'Circle':'CIRC_ZONE_EXTENT[CircularZone]', 'Polygonal':'POLYGON_ZONE_EXTENT[PolygonalZone]'}\n",
    "        lt.SetOption(\"DbUpdate\", 0)\n",
    "        for k_str in paras.keys():        \n",
    "            k, ind = self.check_tabulated(k_str)\n",
    "            if  ind is not None:\n",
    "                # print(k, ind, lt.DbGet(f'PROPERTY_MANAGER[Optical Properties Manager].PROPERTY[{name}].{f}', k, None, ind))\n",
    "                lt.DbSet(f'{surface_key}.ZONE[{name}].{shape_keys[shape]}', k, paras[k_str], ind)\n",
    "            else:                \n",
    "                # print(k, lt.DbGet(f'PROPERTY_MANAGER[Optical Properties Manager].PROPERTY[{name}].{f}', k))\n",
    "                lt.DbSet(f'{surface_key}.ZONE[{name}].{shape_keys[shape]}', k, paras[k_str])    \n",
    "        \n",
    "        lt.Cmd(\"\\O\" + lt.Str(f'{surface_key}.ZONE[{name}]'))\n",
    "        lt.Cmd(\"PropertyName=\" + f'\"{name}\"')\n",
    "        lt.Cmd(\"\\Q\")        \n",
    "        lt.SetOption(\"DbUpdate\", 1)\n",
    "\n",
    "    def add_zone_property(self, lt, name, opt_type, paras):\n",
    "        lt.Cmd(\"\\O\" + lt.Str('PROPERTY_MANAGER[Optical Properties Manager]'))\n",
    "        lt.Cmd(\"AddNew=\"\"\")\n",
    "        lt.Cmd(\"\\Q\")\n",
    "        lt.DbSet('PROPERTY_MANAGER[Optical Properties Manager].PROPERTY[@Last]','Name', f'{name}')\n",
    "        lt.DbSet(f'PROPERTY_MANAGER[Optical Properties Manager].PROPERTY[{name}]', 'Simple Type', opt_type)    \n",
    "        lt.SetOption(\"DbUpdate\", 0)\n",
    "        if paras is not None:\n",
    "            for f in paras.keys():\n",
    "                for k_str in paras[f].keys():\n",
    "                    # lt.DbSet(f'PROPERTY_MANAGER[Optical Properties Manager].PROPERTY[{name}].{f}', k, paras[f][k])\n",
    "                    k, ind = self.check_tabulated(k_str)\n",
    "                    if  ind is not None:\n",
    "                        # print(k, ind, lt.DbGet(f'PROPERTY_MANAGER[Optical Properties Manager].PROPERTY[{name}].{f}', k, None, ind))\n",
    "                        lt.DbSet(f'PROPERTY_MANAGER[Optical Properties Manager].PROPERTY[{name}].{f}', k, paras[f][k_str], ind)\n",
    "                    else:                \n",
    "                        # print(k, lt.DbGet(f'PROPERTY_MANAGER[Optical Properties Manager].PROPERTY[{name}].{f}', k))\n",
    "                        lt.DbSet(f'PROPERTY_MANAGER[Optical Properties Manager].PROPERTY[{name}].{f}', k, paras[f][k_str])\n",
    "        lt.SetOption(\"DbUpdate\", 1)\n",
    "\n",
    "\n",
    "    def to_LT(self, lt, surface_key):\n",
    "        self.add_zone_property(lt, self.name, self.opt_type, self.opt_paras)\n",
    "        self.set_zone(lt, surface_key, self.name, self.shape_type, self.shape_paras_LT)\n",
    "        return\n",
    "    \n"
   ]
  },
  {
   "cell_type": "code",
   "execution_count": 3,
   "metadata": {},
   "outputs": [],
   "source": [
    "# Optical Property Parameters\n",
    "paras_1 = {'RULED_DOE_DIRECTION_ZONE[RuledGrating]':{'Grating_Period':0.0005, 'Blaze_Type': 'Manual', 'Grating_Vector_X':0, 'Grating_Vector_Y':1, 'Grating_Vector_Z':0},\n",
    "           'DIFFRACTION_EFFICIENCY_ZONE[diffEffTable]':{'Minimum_Order':0, 'Maximum_Order':1, 'EnabledTransmittedOrderAt[1]':0, 'ReflectedEfficiencyAt[1]':0.9, 'EnabledTransmittedOrderAt[2]':0, \n",
    "                                                        'ReflectedEfficiencyAt[2]':0.1, 'TransmittedEfficiencyAt[1]':0, 'TransmittedEfficiencyAt[2]':0}\n",
    "           }\n",
    "\n",
    "paras_2 = {'RULED_DOE_DIRECTION_ZONE[RuledGrating]':{'Grating_Period':0.0005, 'Blaze_Type': 'Manual', 'Grating_Vector_X':1, 'Grating_Vector_Y':0, 'Grating_Vector_Z':0},\n",
    "           'DIFFRACTION_EFFICIENCY_ZONE[diffEffTable]':{'Minimum_Order':0, 'Maximum_Order':1, 'EnabledTransmittedOrderAt[1]':0, 'ReflectedEfficiencyAt[1]':0.8, 'EnabledTransmittedOrderAt[2]':0, \n",
    "                                                        'ReflectedEfficiencyAt[2]':0.2, 'TransmittedEfficiencyAt[1]':0, 'TransmittedEfficiencyAt[2]':0}\n",
    "           }"
   ]
  },
  {
   "cell_type": "code",
   "execution_count": 29,
   "metadata": {},
   "outputs": [],
   "source": [
    "surface_key = 'LENS_MANAGER[1].COMPONENTS[Components].SOLID[Cylinder_3].CYLINDER_PRIMITIVE[CylinderPrimitive_1].PLANAR_SURFACE[FrontSurface]'\n",
    "\n",
    "\n",
    "epe_shape_pts = np.loadtxt('EPE.txt')\n",
    "oc_shape_pts = np.loadtxt('oc.txt')\n",
    "\n",
    "\n",
    "ic = Zone('IC', 'Circle', (-41.89725171, 29.00955127, 1.5), 'Linear Grating', None)\n",
    "epe = Zone('EPE', 'Polygonal', epe_shape_pts, 'Measured BSDF', None)\n",
    "oc = Zone('OC', 'Polygonal', oc_shape_pts, 'RSoft BSDF UDOP', None)\n",
    "\n"
   ]
  },
  {
   "cell_type": "code",
   "execution_count": 30,
   "metadata": {},
   "outputs": [],
   "source": [
    "ic.to_LT(lt, surface_key)\n",
    "epe.to_LT(lt, surface_key)\n",
    "oc.to_LT(lt, surface_key)"
   ]
  },
  {
   "cell_type": "code",
   "execution_count": 14,
   "metadata": {},
   "outputs": [
    {
     "name": "stdout",
     "output_type": "stream",
     "text": [
      "PropertyName=\"IC\"\n"
     ]
    }
   ],
   "source": [
    "name = 'IC'\n",
    "print(f'PropertyName=\"{name}\"')"
   ]
  },
  {
   "cell_type": "code",
   "execution_count": 3,
   "metadata": {},
   "outputs": [],
   "source": [
    "\n",
    "import numpy as np\n",
    "canvas_width = 1600\n",
    "canvas_height = 1200\n",
    "grid_size = 100\n",
    "canvas_dimension = np.array([canvas_width, canvas_height])\n",
    "grid_line_num = np.array([int(canvas_width / grid_size) + 1, int(canvas_height / grid_size) + 1])\n",
    "grid_line_start_pos = ((canvas_dimension - (grid_line_num - 1) * grid_size) * 0.5).astype(int)"
   ]
  },
  {
   "cell_type": "code",
   "execution_count": 6,
   "metadata": {},
   "outputs": [
    {
     "name": "stdout",
     "output_type": "stream",
     "text": [
      "User-defined test_a method content with param1: Hello and param2: World\n",
      "This is another method in MyClass\n"
     ]
    }
   ],
   "source": [
    "from functools import partial\n",
    "\n",
    "class MyClass:\n",
    "    def __init__(self, custom_test_a=None):\n",
    "        if custom_test_a:\n",
    "            # Create a bound version of the custom function to automatically include `self`\n",
    "            self.test_a = lambda: custom_test_a(self)\n",
    "        else:\n",
    "            # Use the default method if no custom function is provided\n",
    "            self.test_a = self.default_test_a\n",
    "\n",
    "    def default_test_a(self):\n",
    "        print(\"Default test_a method content\")\n",
    "\n",
    "    def other_method(self):\n",
    "        print(\"This is another method in MyClass\")\n",
    "\n",
    "# User-defined function that takes additional parameters\n",
    "def user_defined_test_a(self, param1, param2):\n",
    "    print(f\"User-defined test_a method content with param1: {param1} and param2: {param2}\")\n",
    "    self.other_method()  # Access another method\n",
    "\n",
    "# Fix the parameters using partial\n",
    "custom_func = partial(user_defined_test_a, param1=\"Hello\", param2=\"World\")\n",
    "\n",
    "# Example usage\n",
    "obj = MyClass(custom_test_a=custom_func)\n",
    "obj.test_a()  # Now you can call `test_a()` without explicitly passing `self`\n"
   ]
  },
  {
   "cell_type": "code",
   "execution_count": 7,
   "metadata": {},
   "outputs": [
    {
     "name": "stdout",
     "output_type": "stream",
     "text": [
      "User-defined test_a method content with param1: Initial and param2: Parameters\n",
      "This is another method in MyClass\n",
      "User-defined test_a method content with param1: Updated and param2: Values\n",
      "This is another method in MyClass\n"
     ]
    }
   ],
   "source": [
    "class CustomFunctionWrapper:\n",
    "    def __init__(self, func, **initial_params):\n",
    "        self.func = func\n",
    "        self.params = initial_params\n",
    "\n",
    "    def set_params(self, **new_params):\n",
    "        \"\"\"Adjust parameters as needed\"\"\"\n",
    "        self.params.update(new_params)\n",
    "\n",
    "    def __call__(self, instance):\n",
    "        \"\"\"Invoke the wrapped function with the given instance and stored parameters\"\"\"\n",
    "        self.func(instance, **self.params)\n",
    "\n",
    "\n",
    "class MyClass:\n",
    "    def __init__(self, custom_test_a=None):\n",
    "        if custom_test_a:\n",
    "            # If custom function is provided, set it as test_a\n",
    "            self.test_a = lambda: custom_test_a(self)\n",
    "        else:\n",
    "            # Use the default method if no custom function is provided\n",
    "            self.test_a = self.default_test_a\n",
    "\n",
    "    def default_test_a(self):\n",
    "        print(\"Default test_a method content\")\n",
    "\n",
    "    def other_method(self):\n",
    "        print(\"This is another method in MyClass\")\n",
    "\n",
    "# User-defined function that takes additional parameters\n",
    "def user_defined_test_a(self, param1, param2):\n",
    "    print(f\"User-defined test_a method content with param1: {param1} and param2: {param2}\")\n",
    "    self.other_method()  # Access another method\n",
    "\n",
    "# Wrap the user-defined function in CustomFunctionWrapper with initial parameters\n",
    "wrapped_func = CustomFunctionWrapper(user_defined_test_a, param1=\"Initial\", param2=\"Parameters\")\n",
    "\n",
    "# Example usage\n",
    "obj = MyClass(custom_test_a=wrapped_func)\n",
    "obj.test_a()  # Calls the user-defined function with initial parameters\n",
    "\n",
    "# Adjust parameters afterwards\n",
    "wrapped_func.set_params(param1=\"Updated\", param2=\"Values\")\n",
    "obj.test_a()  # Calls the user-defined function with updated parameters\n"
   ]
  },
  {
   "cell_type": "code",
   "execution_count": 2,
   "metadata": {},
   "outputs": [],
   "source": [
    "import json\n",
    "\n",
    "sys_params = [\n",
    "    {'label': 'Wavelength (R/G/B)', 'value': '650 / 550 / 450', 'static': False},\n",
    "    {'label': 'Field of View (H/V)', 'value': '30 / 30', 'static': False},\n",
    "    {'label': 'Diagonal FOV', 'value': '42.4264', 'static': False},\n",
    "    {'label': 'Eye Relief (mm)', 'value': '15', 'static': False},\n",
    "    {'label': 'Eyebox (W/H)', 'value': '20 / 20', 'static': False},\n",
    "    {'label': 'OC Area (W/H)', 'value': '30 / 30', 'static': False},\n",
    "    {'label': 'Substrate RI', 'value': '1.7', 'static': False},\n",
    "    {'label': 'Ambient RI', 'value': '1', 'static': False}\n",
    "]\n",
    "\n",
    "grating_params_ic = [\n",
    "    {'label': 'Grating Pitch', 'value': '309.6603', 'static': False},\n",
    "    {'label': 'Grating Vector Angle', 'value': '-80.9995', 'static': False},\n",
    "    {'label': 'Grating Vector Length (R/G/B)', 'value': '2.0991 / 1.7761 / 1.4532', 'static': False},\n",
    "    {'label': 'Light Traversal Angle', 'value': '-80.9995', 'static': False}\n",
    "]\n",
    "\n",
    "grating_params_epe = [\n",
    "    {'label': 'Grating Pitch', 'value': '220.9468', 'static': False},\n",
    "    {'label': 'Grating Vector Angle', 'value': '53.2507', 'static': False},\n",
    "    {'label': 'Grating Vector Length (R/G/B)', 'value': '2.9419 / 2.4893 / 2.0367', 'static': False},\n",
    "    {'label': 'Light Traversal Angle', 'value': '7.7432', 'static': False}\n",
    "]\n",
    "\n",
    "grating_params_oc = [\n",
    "    {'label': 'Grating Pitch', 'value': '308.3817', 'static': False},\n",
    "    {'label': 'Grating Vector Angle', 'value': '-172.2568', 'static': False},\n",
    "    {'label': 'Grating Vector Length (R/G/B)', 'value': '2.1078 / 1.7835 / 1.4592', 'static': False}\n",
    "]\n",
    "\n",
    "\n",
    "with open('sys_params.json', 'w') as f:\n",
    "    json.dump(sys_params, f)\n",
    "\n",
    "grating_types = ['ic', 'epe', 'oc']\n",
    "grating_params = [grating_params_ic, grating_params_epe, grating_params_oc]\n",
    "\n",
    "for i, t in enumerate(grating_types):\n",
    "    with open(f'grating_params_{t}.json', 'w') as f:\n",
    "        json.dump(grating_params[i], f)"
   ]
  },
  {
   "cell_type": "code",
   "execution_count": 24,
   "metadata": {},
   "outputs": [
    {
     "data": {
      "text/plain": [
       "<matplotlib.collections.PathCollection at 0x2cc5131e6a0>"
      ]
     },
     "execution_count": 24,
     "metadata": {},
     "output_type": "execute_result"
    },
    {
     "data": {
      "image/png": "[encoded data removed]",
      "text/plain": [
       "<Figure size 640x480 with 1 Axes>"
      ]
     },
     "metadata": {},
     "output_type": "display_data"
    }
   ],
   "source": [
    "import numpy as np\n",
    "import matplotlib.pyplot as plt\n",
    "\n",
    "\n",
    "def get_outermost_points(x, y):\n",
    "    \"\"\"\n",
    "    Get the outermost grid points from two 1D coordinate arrays.\n",
    "\n",
    "    Parameters:\n",
    "        x (numpy.ndarray): 1D array of x-coordinates.\n",
    "        y (numpy.ndarray): 1D array of y-coordinates.\n",
    "\n",
    "    Returns:\n",
    "        numpy.ndarray: 2D array of outermost (x, y) points.\n",
    "    \"\"\"\n",
    "    # Top and bottom rows (vary x, y fixed at min and max)\n",
    "    top_bottom_x = np.concatenate([x, x])  # x varies\n",
    "    top_bottom_y = np.concatenate([np.full_like(x, y[0]), np.full_like(x, y[-1])])  # y is fixed\n",
    "\n",
    "    # Left and right columns (vary y, x fixed at min and max)\n",
    "    left_right_x = np.concatenate([np.full_like(y[1:-1], x[0]), np.full_like(y[1:-1], x[-1])])  # x is fixed\n",
    "    left_right_y = np.concatenate([y[1:-1], y[1:-1]])  # y varies\n",
    "\n",
    "    # Combine all points\n",
    "    outer_x = np.concatenate([top_bottom_x, left_right_x])\n",
    "    outer_y = np.concatenate([top_bottom_y, left_right_y])\n",
    "\n",
    "    # Combine into (x, y) pairs\n",
    "    return np.column_stack((outer_x, outer_y))\n",
    "\n",
    "hfov = 30\n",
    "vfov = 15\n",
    "angle_step = 1\n",
    "\n",
    "num = int((hfov / angle_step)) + 1\n",
    "hfov_pts = np.linspace(-0.5 * hfov, 0.5 * hfov, num)\n",
    "vfov_pts = np.linspace(-0.5 * vfov, 0.5 * vfov, num)\n",
    "vertices = get_outermost_points(hfov_pts, vfov_pts)\n",
    "# vertices = np.squeeze(np.dstack([hfov_pts, vfov_pts]))\n",
    "# print(vertices.shape)\n",
    "plt.scatter(vertices[:, 0], vertices[:, 1])"
   ]
  },
  {
   "cell_type": "code",
   "execution_count": 11,
   "metadata": {},
   "outputs": [
    {
     "data": {
      "text/plain": [
       "<matplotlib.collections.PathCollection at 0x2cc511e9760>"
      ]
     },
     "execution_count": 11,
     "metadata": {},
     "output_type": "execute_result"
    },
    {
     "data": {
      "image/png": "[encoded data removed]",
      "text/plain": [
       "<Figure size 640x480 with 1 Axes>"
      ]
     },
     "metadata": {},
     "output_type": "display_data"
    }
   ],
   "source": [
    "center = np.array([10, 10])\n",
    "vertices += center\n",
    "plt.scatter(vertices[:, 0], vertices[:, 1])"
   ]
  },
  {
   "cell_type": "code",
   "execution_count": 9,
   "metadata": {},
   "outputs": [
    {
     "name": "stdout",
     "output_type": "stream",
     "text": [
      "Outermost grid points (x, y):\n",
      "[[0. 0.]\n",
      " [1. 0.]\n",
      " [2. 0.]\n",
      " [3. 0.]\n",
      " [4. 0.]\n",
      " [0. 4.]\n",
      " [1. 4.]\n",
      " [2. 4.]\n",
      " [3. 4.]\n",
      " [4. 4.]\n",
      " [0. 1.]\n",
      " [0. 2.]\n",
      " [0. 3.]\n",
      " [4. 1.]\n",
      " [4. 2.]\n",
      " [4. 3.]]\n"
     ]
    }
   ],
   "source": [
    "import numpy as np\n",
    "\n",
    "# Create a meshgrid\n",
    "x = np.linspace(0, 4, 5)  # x-coordinates\n",
    "y = np.linspace(0, 4, 5)  # y-coordinates\n",
    "X, Y = np.meshgrid(x, y)\n",
    "\n",
    "# Select the outermost grid points\n",
    "outer_x = np.concatenate([X[0, :],  # Top row\n",
    "                          X[-1, :],  # Bottom row\n",
    "                          X[1:-1, 0],  # Left column (excluding corners)\n",
    "                          X[1:-1, -1]])  # Right column (excluding corners)\n",
    "\n",
    "outer_y = np.concatenate([Y[0, :],  # Top row\n",
    "                          Y[-1, :],  # Bottom row\n",
    "                          Y[1:-1, 0],  # Left column (excluding corners)\n",
    "                          Y[1:-1, -1]])  # Right column (excluding corners)\n",
    "\n",
    "# Combine into a single array of coordinates\n",
    "outer_points = np.column_stack((outer_x, outer_y))\n",
    "\n",
    "# Print results\n",
    "print(\"Outermost grid points (x, y):\")\n",
    "print(outer_points)\n"
   ]
  },
  {
   "cell_type": "code",
   "execution_count": 5,
   "metadata": {},
   "outputs": [
    {
     "name": "stdout",
     "output_type": "stream",
     "text": [
      "[[ 85.    -7.5 ]\n",
      " [ 85.5   -7.25]\n",
      " [ 86.    -7.  ]\n",
      " [ 86.5   -6.75]\n",
      " [ 87.    -6.5 ]\n",
      " [ 87.5   -6.25]\n",
      " [ 88.    -6.  ]\n",
      " [ 88.5   -5.75]\n",
      " [ 89.    -5.5 ]\n",
      " [ 89.5   -5.25]\n",
      " [ 90.    -5.  ]\n",
      " [ 90.5   -4.75]\n",
      " [ 91.    -4.5 ]\n",
      " [ 91.5   -4.25]\n",
      " [ 92.    -4.  ]\n",
      " [ 92.5   -3.75]\n",
      " [ 93.    -3.5 ]\n",
      " [ 93.5   -3.25]\n",
      " [ 94.    -3.  ]\n",
      " [ 94.5   -2.75]\n",
      " [ 95.    -2.5 ]\n",
      " [ 95.5   -2.25]\n",
      " [ 96.    -2.  ]\n",
      " [ 96.5   -1.75]\n",
      " [ 97.    -1.5 ]\n",
      " [ 97.5   -1.25]\n",
      " [ 98.    -1.  ]\n",
      " [ 98.5   -0.75]\n",
      " [ 99.    -0.5 ]\n",
      " [ 99.5   -0.25]\n",
      " [100.     0.  ]\n",
      " [100.5    0.25]\n",
      " [101.     0.5 ]\n",
      " [101.5    0.75]\n",
      " [102.     1.  ]\n",
      " [102.5    1.25]\n",
      " [103.     1.5 ]\n",
      " [103.5    1.75]\n",
      " [104.     2.  ]\n",
      " [104.5    2.25]\n",
      " [105.     2.5 ]\n",
      " [105.5    2.75]\n",
      " [106.     3.  ]\n",
      " [106.5    3.25]\n",
      " [107.     3.5 ]\n",
      " [107.5    3.75]\n",
      " [108.     4.  ]\n",
      " [108.5    4.25]\n",
      " [109.     4.5 ]\n",
      " [109.5    4.75]\n",
      " [110.     5.  ]\n",
      " [110.5    5.25]\n",
      " [111.     5.5 ]\n",
      " [111.5    5.75]\n",
      " [112.     6.  ]\n",
      " [112.5    6.25]\n",
      " [113.     6.5 ]\n",
      " [113.5    6.75]\n",
      " [114.     7.  ]\n",
      " [114.5    7.25]\n",
      " [115.     7.5 ]]\n"
     ]
    }
   ],
   "source": [
    "vertices += np.array([100, 0])\n",
    "print(vertices)"
   ]
  },
  {
   "cell_type": "code",
   "execution_count": 19,
   "metadata": {},
   "outputs": [
    {
     "name": "stdout",
     "output_type": "stream",
     "text": [
      "Does the input 123.4568 / 550.0 / 450 match the regex? True\n",
      "Does the input 0 / 0/ 0 match the regex? False\n",
      "Does the input 010 match the regex? False\n",
      "Does the input 000/100/010 match the regex? False\n",
      "Does the input 100/200/10 match the regex? True\n"
     ]
    }
   ],
   "source": [
    "import re\n",
    "\n",
    "def test_regex(input_string, regex_pattern):\n",
    "    \"\"\"\n",
    "    Test if an input string matches the given regex pattern.\n",
    "\n",
    "    Parameters:\n",
    "    - input_string (str): The string to test.\n",
    "    - regex_pattern (str): The regex pattern to match.\n",
    "\n",
    "    Returns:\n",
    "    - bool: True if the input string matches the regex pattern, False otherwise.\n",
    "    \"\"\"\n",
    "    return bool(re.fullmatch(regex_pattern, input_string))\n",
    "\n",
    "# Example Usage\n",
    "input_strings = [\"123.4568 / 550.0 / 450\", '0 / 0/ 0', '010', '000/100/010', '100/200/10']\n",
    "regex_pattern = r\"^[1-9]\\d*(\\.\\d+)?\\s*\\/\\s*[1-9]\\d*(\\.\\d+)?\\s*\\/\\s*[1-9]\\d*(\\.\\d+)?$\"\n",
    "\n",
    "# Test\n",
    "for s in input_strings:\n",
    "    result = test_regex(s, regex_pattern)\n",
    "    print(f\"Does the input {s} match the regex? {result}\")\n"
   ]
  },
  {
   "cell_type": "code",
   "execution_count": 23,
   "metadata": {},
   "outputs": [
    {
     "name": "stdout",
     "output_type": "stream",
     "text": [
      "30.0 30.0\n"
     ]
    }
   ],
   "source": [
    "a = '30/30'\n",
    "c, d = [float(x) for x in a.split('/')]\n",
    "print(c, d)"
   ]
  },
  {
   "cell_type": "code",
   "execution_count": 25,
   "metadata": {},
   "outputs": [],
   "source": [
    "def angle_to_kspace(angle_coords):\n",
    "    kspace_coords = np.zeros_like(angle_coords)\n",
    "    angle_coords = np.radians(angle_coords)\n",
    "    denom = np.sqrt(1 + np.power(angle_coords[:, 0], 2) + np.power(angle_coords[:, 1], 2))\n",
    "    kspace_coords[:, 0] = np.tan(angle_coords[:, 0]) / denom\n",
    "    kspace_coords[:, 1] = np.tan(angle_coords[:, 1]) / denom\n",
    "    return kspace_coords"
   ]
  },
  {
   "cell_type": "code",
   "execution_count": 26,
   "metadata": {},
   "outputs": [
    {
     "data": {
      "text/plain": [
       "<matplotlib.collections.PathCollection at 0x2cc5138ea90>"
      ]
     },
     "execution_count": 26,
     "metadata": {},
     "output_type": "execute_result"
    },
    {
     "data": {
      "image/png": "[encoded data removed]",
      "text/plain": [
       "<Figure size 640x480 with 1 Axes>"
      ]
     },
     "metadata": {},
     "output_type": "display_data"
    }
   ],
   "source": [
    "vertices_kspace = angle_to_kspace(vertices)\n",
    "plt.scatter(vertices_kspace[:, 0], vertices_kspace[:, 1])"
   ]
  }
 ],
 "metadata": {
  "kernelspec": {
   "display_name": "Python 3",
   "language": "python",
   "name": "python3"
  },
  "language_info": {
   "codemirror_mode": {
    "name": "ipython",
    "version": 3
   },
   "file_extension": ".py",
   "mimetype": "text/x-python",
   "name": "python",
   "nbconvert_exporter": "python",
   "pygments_lexer": "ipython3",
   "version": "3.9.2"
  }
 },
 "nbformat": 4,
 "nbformat_minor": 2
}
